{
  "nbformat": 4,
  "nbformat_minor": 0,
  "metadata": {
    "colab": {
      "provenance": []
    },
    "kernelspec": {
      "name": "python3",
      "display_name": "Python 3"
    },
    "language_info": {
      "name": "python"
    }
  },
  "cells": [
    {
      "cell_type": "markdown",
      "source": [
        "**HUGGING FACE HAS DATASETS AND MODELS**\n",
        "\n",
        "**PROVIDE APIS FOR THAT TWO THINGS**\n",
        "\n",
        "**CONTAIN MODELS FROM ALL AROUND THE WORLD**\n",
        "\n",
        "\n",
        "\n",
        "\n"
      ],
      "metadata": {
        "id": "PnoT-bfEbDJ_"
      }
    },
    {
      "cell_type": "code",
      "execution_count": null,
      "metadata": {
        "collapsed": true,
        "id": "zgvvUhZMauAj"
      },
      "outputs": [],
      "source": [
        "!pip install datasets\n",
        "!pip install transformers"
      ]
    },
    {
      "cell_type": "markdown",
      "source": [
        "TEXT CLASSIFICATION"
      ],
      "metadata": {
        "id": "7gc2ow1Nb4gO"
      }
    },
    {
      "cell_type": "code",
      "source": [
        "from transformers import pipeline\n",
        "classification=pipeline('text-classification')\n",
        "classification(\"this book is good\")"
      ],
      "metadata": {
        "collapsed": true,
        "id": "w_KKCXZSb6iv"
      },
      "execution_count": null,
      "outputs": []
    },
    {
      "cell_type": "markdown",
      "source": [
        "SENTIMENT ANALYSIS"
      ],
      "metadata": {
        "id": "yzNsKCBSehLc"
      }
    },
    {
      "cell_type": "code",
      "source": [
        "classification=pipeline(\"sentiment-analysis\")\n",
        "classification([\"this book is good\",\"i am not sure about that\"])"
      ],
      "metadata": {
        "collapsed": true,
        "id": "1SEuzhw0eg5J"
      },
      "execution_count": null,
      "outputs": []
    },
    {
      "cell_type": "markdown",
      "source": [
        "TEXT SUMMERIZATION"
      ],
      "metadata": {
        "id": "REg5oMI8fwAl"
      }
    },
    {
      "cell_type": "code",
      "source": [
        "summarization=pipeline(\"summarization\")\n",
        "summarization(\"\"\"The Hugging Face transformers pipeline simplifies sentiment analysis by providing an easy-to-use interface for text classification. When you initialize pipeline it automatically loads a pre-trained model (typically DistilBERT fine-tuned on SST-2) capable of detecting positive or negative sentiment in English text. By passing a list of strings (e.g., [\"this book is good\", \"i am not sure about that\"]), the pipeline tokenizes the input, runs inference, and returns confidence scores for each label. The output is structured as a list of dictionaries containing label (POSITIVE/NEGATIVE) and score (a probability between 0 and 1), allowing you to quantify sentiment programmatically. This approach is efficient for batch processing and can be customized with different models or languages by specifying parameters in the pipeline constructor.\"\"\",min_length=5,max_length=20)"
      ],
      "metadata": {
        "id": "v8b-RR4rfkTX",
        "collapsed": true
      },
      "execution_count": null,
      "outputs": []
    }
  ]
}