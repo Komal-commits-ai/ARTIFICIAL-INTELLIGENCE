{
  "nbformat": 4,
  "nbformat_minor": 0,
  "metadata": {
    "colab": {
      "provenance": []
    },
    "kernelspec": {
      "name": "python3",
      "display_name": "Python 3"
    },
    "language_info": {
      "name": "python"
    }
  },
  "cells": [
    {
      "cell_type": "markdown",
      "source": [
        "PYHTON BASICS"
      ],
      "metadata": {
        "id": "prORf1ul6m5L"
      }
    },
    {
      "cell_type": "code",
      "execution_count": null,
      "metadata": {
        "colab": {
          "base_uri": "https://localhost:8080/"
        },
        "id": "RLJkhvP456hG",
        "outputId": "e6f849e7-f4da-479b-e517-bb55c1795c84"
      },
      "outputs": [
        {
          "output_type": "stream",
          "name": "stdout",
          "text": [
            "<class 'int'>\n"
          ]
        }
      ],
      "source": [
        "a=10\n",
        "print(type(a))"
      ]
    },
    {
      "cell_type": "code",
      "source": [
        "b=int(input(\"enter your name\"))\n",
        "b=b+1\n",
        "print(b)"
      ],
      "metadata": {
        "colab": {
          "base_uri": "https://localhost:8080/"
        },
        "id": "mBqzQJu56zUW",
        "outputId": "601f7821-1626-4d9e-c1f7-eb807cfd6e99"
      },
      "execution_count": null,
      "outputs": [
        {
          "output_type": "stream",
          "name": "stdout",
          "text": [
            "enter your name1\n",
            "2\n"
          ]
        }
      ]
    },
    {
      "cell_type": "markdown",
      "source": [
        "three quotes for multiline string"
      ],
      "metadata": {
        "id": "ebMOAPC47VND"
      }
    },
    {
      "cell_type": "code",
      "source": [
        "a=\"\"\"eruijevklnvoehuovnenv\n",
        "vefivnebuiebiubuib\n",
        "veivneibib\"\"\""
      ],
      "metadata": {
        "id": "4-eCSghl7ZTm"
      },
      "execution_count": null,
      "outputs": []
    },
    {
      "cell_type": "markdown",
      "source": [
        "build in function"
      ],
      "metadata": {
        "id": "gKfCIqQe7fHH"
      }
    },
    {
      "cell_type": "code",
      "source": [
        "a=\"hello,world\"\n",
        "print(a.upper())\n",
        "print(a.lower())\n",
        "print(a.strip())\n",
        "a.replace(\"h\",\"j\")\n",
        "a.split(\",\")#tokenization"
      ],
      "metadata": {
        "id": "nzasZFAm7eh6"
      },
      "execution_count": null,
      "outputs": []
    },
    {
      "cell_type": "markdown",
      "source": [
        "list"
      ],
      "metadata": {
        "id": "guSGJYxe-K6a"
      }
    },
    {
      "cell_type": "code",
      "source": [
        "a=[1,2,3,4,5] #list of int\n",
        "print(a[1])#can be of different type in same list"
      ],
      "metadata": {
        "colab": {
          "base_uri": "https://localhost:8080/"
        },
        "id": "r6jLTHC_90gC",
        "outputId": "104f7edd-f1cc-432e-f70f-b7b7384c839b"
      },
      "execution_count": null,
      "outputs": [
        {
          "output_type": "stream",
          "name": "stdout",
          "text": [
            "2\n"
          ]
        }
      ]
    },
    {
      "cell_type": "markdown",
      "source": [
        "tuple #unchangable list"
      ],
      "metadata": {
        "id": "ZO5IlsiI-8PM"
      }
    },
    {
      "cell_type": "code",
      "source": [
        "a=(1,2,3,4,5)\n",
        "a=(1)#not tuple\n",
        "a=(1,)#it is a tuple comma is must"
      ],
      "metadata": {
        "id": "lWjXgDtZ_Al1"
      },
      "execution_count": null,
      "outputs": []
    },
    {
      "cell_type": "markdown",
      "source": [
        "set#unordered"
      ],
      "metadata": {
        "id": "b7EYWSx__TjO"
      }
    },
    {
      "cell_type": "code",
      "source": [
        "a={1,2,3}#not changable follow all characterisitcs of set\n",
        "# consider duplicate elements as one\n",
        "#no index of the elements\n",
        "print(a)"
      ],
      "metadata": {
        "colab": {
          "base_uri": "https://localhost:8080/"
        },
        "id": "Gpj3KPMC_W8n",
        "outputId": "74438295-c7b0-4002-8e09-3316364396a1"
      },
      "execution_count": null,
      "outputs": [
        {
          "output_type": "stream",
          "name": "stdout",
          "text": [
            "{1, 2, 3}\n"
          ]
        }
      ]
    },
    {
      "cell_type": "markdown",
      "source": [
        "dictionary!"
      ],
      "metadata": {
        "id": "2ZmjVHo2_-G-"
      }
    },
    {
      "cell_type": "code",
      "source": [
        "dict={1:\"komal\",2:\"manahil\",3:\"alia\"}# two functions for the dict values and keys......\n",
        "c=dict.values()\n",
        "for i in c:\n",
        "  print(i)\n",
        "#no duplicate key otherwise will overrride this......"
      ],
      "metadata": {
        "colab": {
          "base_uri": "https://localhost:8080/"
        },
        "id": "xNKWbPEIAKAw",
        "outputId": "6262bd34-b2e8-4da8-c81c-cbbdde8247c0"
      },
      "execution_count": null,
      "outputs": [
        {
          "output_type": "stream",
          "name": "stdout",
          "text": [
            "komal\n",
            "manahil\n",
            "alia\n"
          ]
        }
      ]
    },
    {
      "cell_type": "markdown",
      "source": [
        "for loop# iterator"
      ],
      "metadata": {
        "id": "Z_PsQJkmRr6_"
      }
    },
    {
      "cell_type": "code",
      "source": [
        "for i in range(10):\n",
        " print(\"i am a boss\")"
      ],
      "metadata": {
        "colab": {
          "base_uri": "https://localhost:8080/"
        },
        "id": "Vq6kwp74Rpfo",
        "outputId": "bd441312-3364-4082-90d9-cb38cf6e472a"
      },
      "execution_count": null,
      "outputs": [
        {
          "output_type": "stream",
          "name": "stdout",
          "text": [
            "i am a boss\n",
            "i am a boss\n",
            "i am a boss\n",
            "i am a boss\n",
            "i am a boss\n",
            "i am a boss\n",
            "i am a boss\n",
            "i am a boss\n",
            "i am a boss\n",
            "i am a boss\n"
          ]
        }
      ]
    },
    {
      "cell_type": "code",
      "source": [
        "a=\"i am a boss\"\n",
        "for x in a:#each character in the x\n",
        "  print(x)"
      ],
      "metadata": {
        "colab": {
          "base_uri": "https://localhost:8080/"
        },
        "id": "ol0ISg_AVJ4G",
        "outputId": "cad43032-ad44-48fc-9add-cfffa8836986"
      },
      "execution_count": null,
      "outputs": [
        {
          "output_type": "stream",
          "name": "stdout",
          "text": [
            "i\n",
            " \n",
            "a\n",
            "m\n",
            " \n",
            "a\n",
            " \n",
            "b\n",
            "o\n",
            "s\n",
            "s\n"
          ]
        }
      ]
    },
    {
      "cell_type": "markdown",
      "source": [
        "function"
      ],
      "metadata": {
        "id": "R30c3p_CbMRI"
      }
    },
    {
      "cell_type": "code",
      "source": [
        "def sum(a,b):#parameter\n",
        "  return a+b\n",
        "print(sum(1,4))#1 and 4 arguments"
      ],
      "metadata": {
        "colab": {
          "base_uri": "https://localhost:8080/"
        },
        "id": "9B0jrEHmVWS_",
        "outputId": "09da416d-0531-4dbb-f0a9-02e9b108b4e1"
      },
      "execution_count": null,
      "outputs": [
        {
          "output_type": "stream",
          "name": "stdout",
          "text": [
            "5\n"
          ]
        }
      ]
    }
  ]
}