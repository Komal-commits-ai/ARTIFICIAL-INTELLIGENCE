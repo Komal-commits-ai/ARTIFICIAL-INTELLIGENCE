{
  "nbformat": 4,
  "nbformat_minor": 0,
  "metadata": {
    "colab": {
      "provenance": []
    },
    "kernelspec": {
      "name": "python3",
      "display_name": "Python 3"
    },
    "language_info": {
      "name": "python"
    }
  },
  "cells": [
    {
      "cell_type": "code",
      "execution_count": null,
      "metadata": {
        "id": "RDajHdzw6yot"
      },
      "outputs": [],
      "source": [
        "!pip install datasets"
      ]
    },
    {
      "cell_type": "code",
      "source": [
        "!pip install transformers"
      ],
      "metadata": {
        "id": "C_hWDDeR7jQW"
      },
      "execution_count": null,
      "outputs": []
    },
    {
      "cell_type": "markdown",
      "source": [
        "TEST ATLEAST THREE MODELS FOR YOUR CODE\n",
        "\n",
        "two modes of model\n",
        "\n",
        "1)training mode(use your data to train model)\n",
        "\n",
        "2)inference mode"
      ],
      "metadata": {
        "id": "z6l4ZjGT8ooO"
      }
    },
    {
      "cell_type": "code",
      "source": [
        "from transformers import pipeline\n",
        "pipeline=pipeline(\"sentiment-analysis\",model=\"tabularisai/multilingual-sentiment-analysis\")\n",
        "data=\"I love you\"\n",
        "pipeline(data)"
      ],
      "metadata": {
        "colab": {
          "base_uri": "https://localhost:8080/"
        },
        "id": "TirwAHN47oRk",
        "outputId": "f80e82a3-8b1b-43dc-b65d-c84cbc33dfe2"
      },
      "execution_count": null,
      "outputs": [
        {
          "output_type": "stream",
          "name": "stderr",
          "text": [
            "Device set to use cpu\n"
          ]
        },
        {
          "output_type": "execute_result",
          "data": {
            "text/plain": [
              "[{'label': 'Very Positive', 'score': 0.4609346091747284}]"
            ]
          },
          "metadata": {},
          "execution_count": 8
        }
      ]
    },
    {
      "cell_type": "code",
      "source": [
        "from transformers import pipeline\n",
        "ner_pipeline = pipeline(\"ner\")\n",
        "text = \"i am komal from pakistan\"\n",
        "ner_pipeline(text)\n"
      ],
      "metadata": {
        "id": "9hUFXFA2D2Om"
      },
      "execution_count": null,
      "outputs": []
    }
  ]
}