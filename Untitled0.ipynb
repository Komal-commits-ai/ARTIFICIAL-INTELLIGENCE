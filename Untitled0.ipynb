{
  "nbformat": 4,
  "nbformat_minor": 0,
  "metadata": {
    "colab": {
      "provenance": [],
      "authorship_tag": "ABX9TyO66NfwzanuuqOM8tGX2qeA",
      "include_colab_link": true
    },
    "kernelspec": {
      "name": "python3",
      "display_name": "Python 3"
    },
    "language_info": {
      "name": "python"
    }
  },
  "cells": [
    {
      "cell_type": "markdown",
      "metadata": {
        "id": "view-in-github",
        "colab_type": "text"
      },
      "source": [
        "<a href=\"https://colab.research.google.com/github/Komal-commits-ai/ARTIFICIAL-INTELLIGENCE/blob/main/Untitled0.ipynb\" target=\"_parent\"><img src=\"https://colab.research.google.com/assets/colab-badge.svg\" alt=\"Open In Colab\"/></a>"
      ]
    },
    {
      "cell_type": "code",
      "execution_count": 2,
      "metadata": {
        "colab": {
          "base_uri": "https://localhost:8080/"
        },
        "id": "oot-2Psxzdhz",
        "outputId": "1a17215d-c221-4a6d-e08e-b35462ee5820"
      },
      "outputs": [
        {
          "output_type": "stream",
          "name": "stdout",
          "text": [
            "komal\n",
            "100\n"
          ]
        }
      ],
      "source": [
        "print(\"komal\")\n",
        "a=10\n",
        "b=90\n",
        "print(a+b)"
      ]
    },
    {
      "cell_type": "code",
      "source": [
        "class Graph:\n",
        "    def __init__(self):\n",
        "        self.adjacency_list = {}\n",
        "\n",
        "    def add_edge(self, vertex1, vertex2):\n",
        "        if vertex1 not in self.adjacency_list:\n",
        "            self.adjacency_list[vertex1] = []\n",
        "        self.adjacency_list[vertex1].append(vertex2)\n",
        "\n",
        "    def dfs(self, start_vertex):\n",
        "        visited = set()\n",
        "        traversal_order = []\n",
        "        self._dfs_helper(start_vertex, visited, traversal_order)\n",
        "        return traversal_order\n",
        "\n",
        "    def _dfs_helper(self, vertex, visited, traversal_order):\n",
        "        visited.add(vertex)\n",
        "        traversal_order.append(vertex)\n",
        "        if vertex in self.adjacency_list:\n",
        "            for neighbor in self.adjacency_list[vertex]:\n",
        "                if neighbor not in visited:\n",
        "                    self._dfs_helper(neighbor, visited, traversal_order)\n",
        "\n",
        "def bfs(self, start_vertex):\n",
        "        visited = set()\n",
        "        traversal_order = []\n",
        "        queue = [start_vertex]\n",
        "        visited.add(start_vertex)\n",
        "\n",
        "        while queue:\n",
        "            vertex = queue.pop(0)\n",
        "            traversal_order.append(vertex)\n",
        "            if vertex in self.adjacency_list:\n",
        "                for neighbor in self.adjacency_list[vertex]:\n",
        "                    if neighbor not in visited:\n",
        "                        queue.append(neighbor)\n",
        "                        visited.add(neighbor)\n",
        "\n",
        "        return traversal_order\n",
        "\n",
        "\n",
        "graph = Graph()\n",
        "graph.add_edge('A', 'B')\n",
        "graph.add_edge('A', 'C')\n",
        "graph.add_edge('B', 'D')\n",
        "graph.add_edge('C', 'E')\n",
        "print(graph)\n"
      ],
      "metadata": {
        "colab": {
          "base_uri": "https://localhost:8080/"
        },
        "id": "Ah1aehGnz1ST",
        "outputId": "03461b05-5151-47d6-95aa-5fe46eaf9436"
      },
      "execution_count": 9,
      "outputs": [
        {
          "output_type": "stream",
          "name": "stdout",
          "text": [
            "<__main__.Graph object at 0x7eca2fc3a550>\n"
          ]
        }
      ]
    },
    {
      "cell_type": "markdown",
      "source": [],
      "metadata": {
        "id": "eiAxxDG6z1sq"
      }
    }
  ]
}