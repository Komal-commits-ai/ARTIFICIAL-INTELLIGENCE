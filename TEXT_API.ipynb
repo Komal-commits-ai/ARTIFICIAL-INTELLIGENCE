{
  "nbformat": 4,
  "nbformat_minor": 0,
  "metadata": {
    "colab": {
      "provenance": []
    },
    "kernelspec": {
      "name": "python3",
      "display_name": "Python 3"
    },
    "language_info": {
      "name": "python"
    }
  },
  "cells": [
    {
      "cell_type": "markdown",
      "source": [
        "# **SENTIMENT** **ANALYSIS**\n",
        "\n"
      ],
      "metadata": {
        "id": "2FwFMJ-Dr8S9"
      }
    },
    {
      "cell_type": "markdown",
      "source": [
        "API framework api:(like accessing  only the header class after importing a library) like openai (api of ai models provided by the company OPENAI )\n"
      ],
      "metadata": {
        "id": "_I0qahkFZsel"
      }
    },
    {
      "cell_type": "code",
      "execution_count": null,
      "metadata": {
        "collapsed": true,
        "id": "IjqDMsdxZqUX"
      },
      "outputs": [],
      "source": [
        "!pip install openai"
      ]
    },
    {
      "cell_type": "markdown",
      "source": [
        "Key for api is secret.Donot share the key.As it is traced by the company like what activities is done by this key user.Key has definite restrictions.key is paid if other person use you have to pay  "
      ],
      "metadata": {
        "id": "i2uzzz8ziAcZ"
      }
    },
    {
      "cell_type": "code",
      "source": [
        "import openai\n",
        "openai.api_key=''\n",
        "def sentiment_analysis(text):\n",
        "  messages=[\n",
        "   {\"role\" : \"system\",\"content\":\"\"\"you are trained to analyze and detect the sentiment of given text.\n",
        "   if you are not sure of an answer, you can say \" not sure\" and recommend users to review manually.\"\"\"},\n",
        "   {\"role\":\"user\",\"content\":f\"\"\"analyze the text and determine whether the sentiment is:positive or negative.\n",
        "   return answer in sinle word either positive or negative:{text}\"\"\" }\n",
        "   ]\n",
        "  response=openai.chat.completions.create( # for promt openai.completion.create(prompt='')\n",
        "     model=\"gpt-3.5-turbo\",                 #return output=[choices.message.content.strip() for choices in response.choices]\n",
        "     stop=None,\n",
        "     messages=messages,\n",
        "     temperature=0)\n",
        "  response_text=response.choices[0].message.content.strip().lower()\n",
        "  return response_text\n",
        "input=\"i donot like playing chess\"\n",
        "response=sentiment_analysis(input)\n",
        "print(input,\"the sentiment is:\",response)\n"
      ],
      "metadata": {
        "collapsed": true,
        "id": "XiWkysfEiZg2"
      },
      "execution_count": null,
      "outputs": []
    },
    {
      "cell_type": "markdown",
      "source": [
        "# **IMAGE** **FROM THE DALL E MODEL**"
      ],
      "metadata": {
        "id": "IZWRqnVx8bYG"
      }
    },
    {
      "cell_type": "code",
      "source": [
        "from openai import OpenAI\n",
        "import requests\n",
        "from PIL import Image\n",
        "from io import BytesIO\n",
        "\n",
        "# Initialize client\n",
        "client = OpenAI(api_key=\"your-api-key\")  # Replace with your key\n",
        "\n",
        "def generate_image(prompt):\n",
        "    # Generate image with DALL·E 3\n",
        "    response = client.images.generate(\n",
        "        model=\"dall-e-3\",\n",
        "        prompt=prompt,\n",
        "        size=\"1024x1024\",\n",
        "        quality=\"standard\",\n",
        "        n=1,\n",
        "        response_format=\"url\"  # Returns a URL\n",
        "    )\n",
        "    return response.data[0].url\n",
        "\n",
        "# Generate and display image\n",
        "text = \"batman art in red and blue color\"\n",
        "try:\n",
        "    # 1. Get image URL\n",
        "    image_url = generate_image(text)\n",
        "\n",
        "    # 2. Download image\n",
        "    response = requests.get(image_url, stream=True)\n",
        "    response.raise_for_status()  # Check for errors\n",
        "\n",
        "    # 3. Display with PIL\n",
        "    img = Image.open(response.raw)\n",
        "    img.show()  # Or use display(img) in Jupyter\n",
        "\n",
        "except Exception as e:\n",
        "    print(f\"Error: {e}\")"
      ],
      "metadata": {
        "id": "74gNVcae8lAG"
      },
      "execution_count": null,
      "outputs": []
    }
  ]
}